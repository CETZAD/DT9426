{
 "cells": [
  {
   "cell_type": "markdown",
   "metadata": {},
   "source": [
    "# Week 1 - Background to Python and Basic Programming\n",
    "\n",
    "_Python is an interpreted high-level programming language for general-purpose programming. \n",
    "\n",
    "_Created by Guido van Rossum and first released in 1991, Python has a design philosophy that emphasizes code readability, notably using significant whitespace. \n",
    "\n",
    "_It provides constructs that enable clear programming on both small and large scales.\n",
    "https://en.wikipedia.org/wiki/Python_(programming_language)\n",
    "\n",
    "It is used in many domains, ranging from web development, to data science and GIS. It is seen as a language that is easy to learn, but can be used for very large and complex projects. Well known users of Python include WIkipedia, Google, Dropbox, NASA.. Software for small arduinos to Boeing 787s can and is written in Python.\n",
    "\n",
    "![growth_major_languages-1-1024x878.png](attachment:growth_major_languages-1-1024x878.png)\n",
    "\n",
    "Stackoverflow is a website where users ask and answer questions about.. everything. It's a good place to go if you have a problem that you can't find a solution for on the web. Do read up on how to ask a question though - people appreciate you doing a bit of homework and trying to solve the problem yourself.\n",
    "\n",
    "It has a modular structure - you import a library with code to perform a particular task. for example, the `pandas` library is used for data analysis, and allows manipulation of data in tabular format, kind of like Excel but much much better....!\n",
    "\n",
    "There are several ways to use and write Python. This is a `Jupyter Notebook` - it is a way to write nicely formatted text in the form of markdown in the same page as a piece of code.\n"
   ]
  },
  {
   "cell_type": "code",
   "execution_count": null,
   "metadata": {},
   "outputs": [
    {
     "name": "stdout",
     "output_type": "stream",
     "text": [
      "Michael O'Donnell\n"
     ]
    }
   ],
   "source": [
    "my_name = \"Mick O'Donnell\"\n",
    "print(my_name)"
   ]
  },
  {
   "cell_type": "markdown",
   "metadata": {},
   "source": [
    "You can access the shortcut menu for Jupyter by clicking help - keyboard shortcuts. This will help you write code with less effort. Yuo can also access the Python reference documentation here too. Give it a try.\n",
    "\n",
    "Another method is to use an IDE, or Integrated Development Environment. This allows some more advanced tools to be used, such as code completion, debugging, refactoring.. We will explore PyCharm in a later class when we're writing some more complex code. \n",
    "\n",
    "Python is widely used in GIS - the very popular and powerful open source GIS `QGIS` is mostly written in Python, and it is possible to do anything that can be done in the GUI via code. There is also a Python terminal and simple IDE within QGIS. ArcGIS allows scripting with Python, which you wil cover in another module.\n",
    "\n",
    "There is a lot of development being done with Python for GIS - libraries like PySAL and geopandas are used for geospatial data analysis, while older libraries like GDAL, Shapely and Fiona do foundational functions like reading/writing geospatial data, geometric operations and projection. You will also be looking at this in a later module. "
   ]
  },
  {
   "cell_type": "markdown",
   "metadata": {
    "collapsed": true
   },
   "source": [
    "## Basic Programming\n",
    "\n",
    "Here we will look at some basics of programming, namely \n",
    " - mathematical operators\n",
    " - logical operators\n",
    " - simple input and output\n",
    " - data types\n",
    "\n",
    "Mathematical operators are simple:\n",
    "\n",
    "\n",
    "\n",
    "addition: `x + y`\n",
    "subtraction `x - y`\n",
    "multiplication `x * y`\n",
    "division `x / y`\n",
    "integer division `x // y`\n",
    "modulus or remainder `x % y`\n",
    "power `x ** y`\n",
    "\n",
    "There are lots more mathematical operations (just as a scientific calculator has) that csn be accessed via the **math** library. `import math as math`\n"
   ]
  },
  {
   "cell_type": "code",
   "execution_count": 64,
   "metadata": {},
   "outputs": [
    {
     "name": "stdout",
     "output_type": "stream",
     "text": [
      "Addition:  30\n",
      "Subtration:  14\n",
      "Multiplication:  176\n",
      "Division:  2.75\n",
      "Integer Division:  2\n",
      "Modulus:  6\n",
      "Power:  54875873536\n",
      "Log:  3.091042453358316\n"
     ]
    }
   ],
   "source": [
    "x = 22\n",
    "y = 8\n",
    "\n",
    "print('Addition: ', x + y)\n",
    "print('Subtration: ', x - y)\n",
    "print('Multiplication: ', x * y)\n",
    "print('Division: ', x / y)\n",
    "print('Integer Division: ', x // y)\n",
    "print('Modulus: ', x % y)\n",
    "print('Power: ', x ** y)\n",
    "\n",
    "import math as math\n",
    "print('Log: ', math.log(x))\n"
   ]
  },
  {
   "cell_type": "markdown",
   "metadata": {},
   "source": [
    "Python uses standard mathematical evaluation precedence - multiplication takes precedence over subtraction. You can ensure that an operation is done the way you intend it by using brackets. From Swiegart's Book:\n",
    "\n",
    "> The order of operations (also called precedence) of Python math operators is similar to that of mathematics. The ** operator is evaluated first; the *, /, //, and % operators are evaluated next, from left to right; and the + and - operators are evaluated last (also from left to right). You can use parentheses to override the usual precedence if you need to."
   ]
  },
  {
   "cell_type": "code",
   "execution_count": 21,
   "metadata": {},
   "outputs": [
    {
     "data": {
      "text/plain": [
       "23"
      ]
     },
     "execution_count": 21,
     "metadata": {},
     "output_type": "execute_result"
    }
   ],
   "source": [
    "20 + 1 * 3"
   ]
  },
  {
   "cell_type": "code",
   "execution_count": 22,
   "metadata": {},
   "outputs": [
    {
     "data": {
      "text/plain": [
       "63"
      ]
     },
     "execution_count": 22,
     "metadata": {},
     "output_type": "execute_result"
    }
   ],
   "source": [
    "(20 + 1) * 3"
   ]
  },
  {
   "cell_type": "markdown",
   "metadata": {},
   "source": [
    "If we wanted to perform some more complicated procedure, we can build the process from these blocks. For example, to get the distance between two points A and B with co-ordinates (1,2) and (3,4) respectively, we can use the formula for the Euclidean distance:\n",
    "$$ d = \\sqrt{(x_2 - x_1)^2 + (y_2 - y_1)^2} $$\n",
    "\n",
    "Give this a try now. The answer you need to get is 2.8284271247461903\n",
    "\n",
    "Steps in doing this:\n",
    " - assign values to variables `x1 = 1` etc.\n",
    " \n",
    " - write the formula starting with the inside and working out\n",
    " \n",
    " - run the piece of code (click run button or ctrl-enter)"
   ]
  },
  {
   "cell_type": "code",
   "execution_count": null,
   "metadata": {},
   "outputs": [],
   "source": [
    "x1 = 1\n",
    "x2 = _\n",
    "_\n",
    "_\n",
    "d = _"
   ]
  },
  {
   "cell_type": "markdown",
   "metadata": {},
   "source": [
    "## Data Types\n",
    "\n",
    "Like most programming languages, Python stores data in different ways depending on the type of the data. For example, storing something as a `numeric` type means that it can have mathematical operations performed on it. Or if it is of `string` type, it can have operations performed on it that are specific to words and characters. Python will automatically assign the value to a variable which is of the appropriate type. For instance, in the cell below, 4 gets assigned to an int type - it is obviously an integer. A foating point number is just another represention of a number, with a slightly different structure. This is done to help with memory use."
   ]
  },
  {
   "cell_type": "code",
   "execution_count": null,
   "metadata": {},
   "outputs": [],
   "source": [
    "a_number = 4\n",
    "\n",
    "print(type(a_number))\n",
    "\n",
    "a_number**2\n",
    "\n",
    "another_number = 4.0\n",
    "\n",
    "print(type(another_number))\n",
    "\n",
    "x = a_number / another_number\n",
    "\n",
    "print(type(x))"
   ]
  },
  {
   "cell_type": "code",
   "execution_count": 40,
   "metadata": {},
   "outputs": [
    {
     "name": "stdout",
     "output_type": "stream",
     "text": [
      "<class 'float'>\n"
     ]
    }
   ],
   "source": [
    "x = a_number / another_number\n",
    "\n",
    "print(type(x))"
   ]
  },
  {
   "cell_type": "markdown",
   "metadata": {},
   "source": [
    "Let's look at spome strings. "
   ]
  },
  {
   "cell_type": "code",
   "execution_count": null,
   "metadata": {},
   "outputs": [
    {
     "name": "stdout",
     "output_type": "stream",
     "text": [
      "<class 'str'>\n"
     ]
    },
    {
     "data": {
      "text/plain": [
       "'hello world'"
      ]
     },
     "execution_count": 41,
     "metadata": {},
     "output_type": "execute_result"
    }
   ],
   "source": [
    "a_word = \"Hello World\"\n",
    "another_word = \"Spam and Eggs\"\n",
    "a_numeral = \"4\"\n",
    "\n",
    "print(type(a_word))\n",
    "\n",
    "a_word.lower()"
   ]
  },
  {
   "cell_type": "markdown",
   "metadata": {},
   "source": [
    "Some numeric operations work, but not the way you might think....."
   ]
  },
  {
   "cell_type": "code",
   "execution_count": null,
   "metadata": {},
   "outputs": [],
   "source": [
    "a_word + another_word"
   ]
  },
  {
   "cell_type": "markdown",
   "metadata": {},
   "source": [
    "Some don't work and will give an error. You will get used to this, and the error message will give you some information you need to fix the problem. If you can't figure it out.... google it!"
   ]
  },
  {
   "cell_type": "code",
   "execution_count": 37,
   "metadata": {},
   "outputs": [
    {
     "ename": "TypeError",
     "evalue": "unsupported operand type(s) for ** or pow(): 'str' and 'int'",
     "traceback": [
      "\u001b[0;31m---------------------------------------------------------------------------\u001b[0m",
      "\u001b[0;31mTypeError\u001b[0m                                 Traceback (most recent call last)",
      "\u001b[0;32m<ipython-input-37-742a548054c1>\u001b[0m in \u001b[0;36m<module>\u001b[0;34m()\u001b[0m\n\u001b[0;32m----> 1\u001b[0;31m \u001b[0ma_word\u001b[0m\u001b[0;34m**\u001b[0m\u001b[0;36m2\u001b[0m\u001b[0;34m\u001b[0m\u001b[0m\n\u001b[0m",
      "\u001b[0;31mTypeError\u001b[0m: unsupported operand type(s) for ** or pow(): 'str' and 'int'"
     ],
     "output_type": "error"
    }
   ],
   "source": [
    "a_word**2"
   ]
  },
  {
   "cell_type": "code",
   "execution_count": 42,
   "metadata": {},
   "outputs": [
    {
     "ename": "TypeError",
     "evalue": "unsupported operand type(s) for ** or pow(): 'str' and 'int'",
     "traceback": [
      "\u001b[0;31m---------------------------------------------------------------------------\u001b[0m",
      "\u001b[0;31mTypeError\u001b[0m                                 Traceback (most recent call last)",
      "\u001b[0;32m<ipython-input-42-982bda04b988>\u001b[0m in \u001b[0;36m<module>\u001b[0;34m()\u001b[0m\n\u001b[0;32m----> 1\u001b[0;31m \u001b[0ma_numeral\u001b[0m \u001b[0;34m**\u001b[0m \u001b[0;36m2\u001b[0m\u001b[0;34m\u001b[0m\u001b[0m\n\u001b[0m",
      "\u001b[0;31mTypeError\u001b[0m: unsupported operand type(s) for ** or pow(): 'str' and 'int'"
     ],
     "output_type": "error"
    }
   ],
   "source": [
    "a_numeral ** 2"
   ]
  },
  {
   "cell_type": "code",
   "execution_count": 36,
   "metadata": {},
   "outputs": [
    {
     "ename": "AttributeError",
     "evalue": "'int' object has no attribute 'lower'",
     "traceback": [
      "\u001b[0;31m---------------------------------------------------------------------------\u001b[0m",
      "\u001b[0;31mAttributeError\u001b[0m                            Traceback (most recent call last)",
      "\u001b[0;32m<ipython-input-36-1be45253a6aa>\u001b[0m in \u001b[0;36m<module>\u001b[0;34m()\u001b[0m\n\u001b[0;32m----> 1\u001b[0;31m \u001b[0ma_number\u001b[0m\u001b[0;34m.\u001b[0m\u001b[0mlower\u001b[0m\u001b[0;34m(\u001b[0m\u001b[0;34m)\u001b[0m\u001b[0;34m\u001b[0m\u001b[0m\n\u001b[0m",
      "\u001b[0;31mAttributeError\u001b[0m: 'int' object has no attribute 'lower'"
     ],
     "output_type": "error"
    }
   ],
   "source": [
    "a_number.lower()"
   ]
  },
  {
   "cell_type": "markdown",
   "metadata": {},
   "source": [
    "Booleans: there are only two of these - True and False."
   ]
  },
  {
   "cell_type": "code",
   "execution_count": 48,
   "metadata": {},
   "outputs": [
    {
     "name": "stdout",
     "output_type": "stream",
     "text": [
      "False\n"
     ]
    }
   ],
   "source": [
    "a_condition = True\n",
    "\n",
    "print(a_condition)\n",
    "print(a_condition == False)"
   ]
  },
  {
   "cell_type": "markdown",
   "metadata": {},
   "source": [
    "A key part of programming is logic. We can check if a condition is met, and if it is, do one process. If it is not met, we do another..\n",
    "\n",
    "There are eight comparison operations in Python. They all have the same priority (which is higher than that of the Boolean operations). https://docs.python.org/3.6/library/stdtypes.html#comparisons"
   ]
  },
  {
   "cell_type": "raw",
   "metadata": {},
   "source": [
    "This table summarizes the comparison operations:\n",
    "\n",
    "Operation\tMeaning\n",
    "<\tstrictly less than\n",
    "<=\tless than or equal\n",
    ">\tstrictly greater than\n",
    ">=\tgreater than or equal\n",
    "==\tequal\n",
    "!=\tnot equal\n",
    "is\tobject identity\n",
    "is not\tnegated object identity"
   ]
  },
  {
   "cell_type": "code",
   "execution_count": 67,
   "metadata": {},
   "outputs": [
    {
     "name": "stdout",
     "output_type": "stream",
     "text": [
      "False\n",
      "True\n",
      "True\n",
      "True\n",
      "Class is over\n"
     ]
    }
   ],
   "source": [
    "x = 3\n",
    "y = 6\n",
    "z = 6.0\n",
    "\n",
    "print(x > y)\n",
    "\n",
    "print(x < y)\n",
    "\n",
    "print(y <= z)\n",
    "\n",
    "print(y == z)"
   ]
  },
  {
   "cell_type": "code",
   "execution_count": 68,
   "metadata": {},
   "outputs": [
    {
     "name": "stdout",
     "output_type": "stream",
     "text": [
      "Sorry that was a joke\n"
     ]
    }
   ],
   "source": [
    "y = 2\n",
    "\n",
    "if (y > x):\n",
    "    print(\"Class is over - you've all passed\")\n",
    "else:\n",
    "    print(\"Sorry that was a joke\")"
   ]
  },
  {
   "cell_type": "markdown",
   "metadata": {},
   "source": [
    "By now your heads are melted. \n",
    "\n",
    "It's a lot to remember. \n",
    "\n",
    "But...\n",
    "\n",
    "... you don't need to remember all of this!\n",
    "\n",
    "There are lots of good resources out there - here's a link to a page with lots of links\n",
    "http://mfranzen.ca/pages/cor/tej4m1_u4.html\n",
    "\n",
    "Print this cheatsheet out and laminate it - it will be a great help. Also bookmark it. \n",
    "https://perso.limsi.fr/pointal/_media/python:cours:mementopython3-v1.2.2-english.pdf\n",
    "\n",
    "A lot of it won't make sense right now, but it will help you quickly look up something you need.\n",
    "\n",
    "![comp-prog-python-cheat-sheet-1-l.jpg](attachment:comp-prog-python-cheat-sheet-1-l.jpg)\n",
    "\n",
    "![comp-prog-python-cheat-sheet-2-l.jpg](attachment:comp-prog-python-cheat-sheet-2-l.jpg)"
   ]
  },
  {
   "cell_type": "markdown",
   "metadata": {},
   "source": [
    "Input and Output:\n",
    "\n",
    "To get some user input, use the `input()` function.\n",
    "\n",
    "To generate a simple output, use `print()` function.\n",
    "\n",
    "More detail here: https://docs.python.org/3.6/tutorial/inputoutput.html?highlight=input"
   ]
  },
  {
   "cell_type": "code",
   "execution_count": 70,
   "metadata": {},
   "outputs": [
    {
     "name": "stdout",
     "output_type": "stream",
     "text": [
      "Please type your nameMick\n",
      "The name you entered was:  Mick\n"
     ]
    }
   ],
   "source": [
    "the_name = input('Please type your name')\n",
    "\n",
    "print('The name you entered was: ', the_name)"
   ]
  },
  {
   "cell_type": "markdown",
   "metadata": {},
   "source": [
    "Let's write a few simple programs.\n",
    "\n",
    " - calculate the volume of a cylinder, allowing the user to input the height and radius, and then print the output with a nice message.\n",
    "  - calculate the volume of a cone, allowing the user to input the height and radius, and then print the output with a nice message.\n",
    " \n",
    " (Do nice outputs for all the below also...)\n",
    " - calculate the volume of a pool, letting the user input width, depth and length.\n",
    " - calculate the fuel efficiency achieved on a journey, allowing the user to input the distance travelled and the amount of fuel used.\n",
    " - create a Fahrenheit to Celsius converter, with user input\n",
    " - create a Celsius to Fahrenheit converter, with user input\n",
    " - combine the calculators into one, and allow the user to choose which conversion to do (hint: you'll need to use an if statement).\n",
    " "
   ]
  },
  {
   "cell_type": "code",
   "execution_count": null,
   "metadata": {},
   "outputs": [],
   "source": []
  }
 ],
 "metadata": {
  "kernelspec": {
   "display_name": "Python 3",
   "language": "python",
   "name": "python3"
  },
  "language_info": {
   "codemirror_mode": {
    "name": "ipython",
    "version": 3
   },
   "file_extension": ".py",
   "mimetype": "text/x-python",
   "name": "python",
   "nbconvert_exporter": "python",
   "pygments_lexer": "ipython3",
   "version": "3.6.0"
  }
 },
 "nbformat": 4,
 "nbformat_minor": 1
}
