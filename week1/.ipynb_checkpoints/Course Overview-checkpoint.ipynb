{
 "cells": [
  {
   "cell_type": "markdown",
   "metadata": {},
   "source": [
    "# DT 9420\n",
    "\n",
    "## Introduction to Programming\n",
    "\n",
    "### Michael O'Donnell\n",
    "### mickleod@gmail.com\n"
   ]
  },
  {
   "cell_type": "markdown",
   "metadata": {},
   "source": [
    "# Python!!!!!\n",
    "\n",
    " ### 12 weeks\n",
    " \n",
    " - #### Part1 weeks 1 to 3 \n",
    "     - Python background and basic programming\n",
    "          - strings, maths, simple i/o\n",
    "          - data types - lists, tuples, dicts\n",
    "     - Integrated development environments, jupyter notebooks, version control\n",
    "     - Algorithmic thinking\n",
    "     - Problem solving\n",
    "     \n",
    " - #### Part 2 weeks 4 to 7\n",
    "     - Functional programming\n",
    "     - File input / output\n",
    "     - User input / output\n",
    "\n",
    " - #### Part 3 weeks 8 to 10 \n",
    "     - Object oriented programming\n",
    "     - Graphical User Interface\n",
    "     - Api access\n",
    "\n",
    " - #### Part 4 weeks 11 to 12\n",
    "     - Project\n",
    "\n",
    "### Assessment \n",
    "\n",
    "#### Weekly exercises \n",
    "Small tasks given during class – each student will post their attempt to their own github account within two weeks of question having been set – mixture of short discussion questions and programming tasks. Each week will account for __2%__ (10 x 2 = 20%)\n",
    "\n",
    "#### Project\n",
    "Two part project; \n",
    "\n",
    " - first part set in Week 6 - due by Week 10 __20%__\n",
    "\n",
    " - second part in Week 10 (subject to change.....) - due by end of term (date to be determined) __60%__"
   ]
  },
  {
   "cell_type": "markdown",
   "metadata": {},
   "source": [
    "# Course Ethos..\n",
    "\n",
    "### Programming is a skill\n",
    "- as such it depends on your drive to learn it. Practise is really important!!! Open Source Software has very few barriers to entry - basically depends on your enthusiasm to learn!!!\n",
    "- some of you will find this difficult, some of you won't!! - __I will do my best to help you all but you must engage!!__\n",
    "- weekly assignments are meant to keep you actively thinking about and doing programming - it may be possible to complete them within class, but I would expect you to still put some time in exploring the resources that I mention during class!!\n",
    "- being able to program is hugely useful in GIS. Relish the opportunity to learn this great language - you will find a way to use it I guarantee you!!! https://developers.slashdot.org/story/17/12/15/1133217/microsoft-considers-adding-python-as-an-official-scripting-language-in-excel"
   ]
  }
 ],
 "metadata": {
  "kernelspec": {
   "display_name": "Python 3",
   "language": "python",
   "name": "python3"
  },
  "language_info": {
   "codemirror_mode": {
    "name": "ipython",
    "version": 3
   },
   "file_extension": ".py",
   "mimetype": "text/x-python",
   "name": "python",
   "nbconvert_exporter": "python",
   "pygments_lexer": "ipython3",
   "version": "3.6.5"
  }
 },
 "nbformat": 4,
 "nbformat_minor": 2
}
